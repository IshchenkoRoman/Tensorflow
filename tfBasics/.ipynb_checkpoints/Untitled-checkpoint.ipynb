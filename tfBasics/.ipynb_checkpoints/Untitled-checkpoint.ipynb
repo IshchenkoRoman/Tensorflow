{
 "cells": [
  {
   "cell_type": "raw",
   "metadata": {},
   "source": [
    "Disclamer: It's created as cheatsheet for myslef\n",
    "If you have some questions or want add something- connect with me firstdrizzzle@ukr.net\n",
    "\n",
    "python 3.5.4\n",
    "tensorflow (1.4.0) (СPU only, linux build)\n",
    "numpy (1.13.3)\n",
    "pandas (0.22.0)\n",
    "matplotlib (2.1.1)"
   ]
  },
  {
   "cell_type": "markdown",
   "metadata": {},
   "source": [
    "## Shortcuts tensorflow"
   ]
  },
  {
   "cell_type": "code",
   "execution_count": 3,
   "metadata": {},
   "outputs": [],
   "source": [
    "# make imports\n",
    "import tensorflow as tf\n",
    "import numpy as np\n",
    "import matplotlib.pyplot as plt\n",
    "%matplotlib inline"
   ]
  },
  {
   "cell_type": "markdown",
   "metadata": {},
   "source": [
    "# Example of create arrays/ matrix"
   ]
  },
  {
   "cell_type": "code",
   "execution_count": 28,
   "metadata": {},
   "outputs": [],
   "source": [
    "# use method \"astype(np.float32)\" is important, because *np.array* by default use int64 \\\n",
    "# Tensorflow calculate  preferly float16/32/64 and complex \n",
    "# astype downcast object\n",
    "\n",
    "first_array = tf.constant(np.arange(0,100).reshape(10,10).astype(np.float32))"
   ]
  },
  {
   "cell_type": "code",
   "execution_count": 17,
   "metadata": {},
   "outputs": [],
   "source": [
    "# Tensorflow Variable and Placeholder only \"reserve\" memory for array\n",
    "# (actually add in graph, which is must be \"launched\")\n",
    "\n",
    "second_array = tf.Variable(np.array(np.mat('1 2; 3 4')))"
   ]
  },
  {
   "cell_type": "code",
   "execution_count": 18,
   "metadata": {},
   "outputs": [
    {
     "data": {
      "text/plain": [
       "<tf.Variable 'Variable_2:0' shape=(2, 2) dtype=int64_ref>"
      ]
     },
     "execution_count": 18,
     "metadata": {},
     "output_type": "execute_result"
    }
   ],
   "source": [
    "# So, if you want to print this array, you' ll see something like this: \n",
    "# <tf.Variable 'Variable:0' shape=(2, 2) dtype=int64_ref>\n",
    "# By the way look at dtype, it's int64, which tensorflow don't \"like\" :)\n",
    "\n",
    "second_array"
   ]
  },
  {
   "cell_type": "code",
   "execution_count": 21,
   "metadata": {},
   "outputs": [
    {
     "data": {
      "text/plain": [
       "<tf.Variable 'Variable_5:0' shape=(2, 3) dtype=float32_ref>"
      ]
     },
     "execution_count": 21,
     "metadata": {},
     "output_type": "execute_result"
    }
   ],
   "source": [
    "third_array = tf.Variable(np.array([[1,2,3], [4,5,6]]).astype(np.float32))\n",
    "third_array"
   ]
  },
  {
   "cell_type": "code",
   "execution_count": 34,
   "metadata": {},
   "outputs": [
    {
     "name": "stdout",
     "output_type": "stream",
     "text": [
      "First matrix:\n",
      "[[  0.   1.   2.   3.   4.   5.   6.   7.   8.   9.]\n",
      " [ 10.  11.  12.  13.  14.  15.  16.  17.  18.  19.]\n",
      " [ 20.  21.  22.  23.  24.  25.  26.  27.  28.  29.]\n",
      " [ 30.  31.  32.  33.  34.  35.  36.  37.  38.  39.]\n",
      " [ 40.  41.  42.  43.  44.  45.  46.  47.  48.  49.]\n",
      " [ 50.  51.  52.  53.  54.  55.  56.  57.  58.  59.]\n",
      " [ 60.  61.  62.  63.  64.  65.  66.  67.  68.  69.]\n",
      " [ 70.  71.  72.  73.  74.  75.  76.  77.  78.  79.]\n",
      " [ 80.  81.  82.  83.  84.  85.  86.  87.  88.  89.]\n",
      " [ 90.  91.  92.  93.  94.  95.  96.  97.  98.  99.]]\n",
      "\n",
      "Second matrix:\n",
      "[[1 2]\n",
      " [3 4]]\n",
      "\n",
      "Third matrix:\n",
      "[[ 1.  2.  3.]\n",
      " [ 4.  5.  6.]]\n"
     ]
    }
   ],
   "source": [
    "\n",
    "\n",
    "# Lets see on our 2D arrays\n",
    "\n",
    "init = tf.global_variables_initializer()\n",
    "\n",
    "with tf.Session() as sess:\n",
    "    \n",
    "    sess.run(init)\n",
    "    \n",
    "    print(\"First matrix:\\n{0}\\n\\nSecond matrix:\\n{1}\\n\\nThird matrix:\\n{2}\".format(sess.run(first_array), \n",
    "                                                                            sess.run(second_array),\n",
    "                                                                            sess.run(third_array)))"
   ]
  },
  {
   "cell_type": "markdown",
   "metadata": {},
   "source": [
    "# Tensorflow way to create array/ matrix "
   ]
  },
  {
   "cell_type": "code",
   "execution_count": 39,
   "metadata": {},
   "outputs": [],
   "source": [
    "mat = tf.fill((4,4),10)\n",
    "zeros = tf.zeros((4,4))\n",
    "ones = tf.ones((4,4))\n",
    "# Outputs random values from a normal distribution.\n",
    "myrandn = tf.random_normal((4,4), mean=0,stddev=1.0)\n",
    "# Outputs random values from a uniform distribution in range [minval, maxval) (maxval not included)\n",
    "myrandu = tf.random_uniform((4,4), minval=0,maxval=1)\n",
    "random_array = tf.random_uniform((4,4),0,1)"
   ]
  },
  {
   "cell_type": "code",
   "execution_count": 42,
   "metadata": {},
   "outputs": [
    {
     "name": "stdout",
     "output_type": "stream",
     "text": [
      "Filled matrix:\n",
      "[[10 10 10 10]\n",
      " [10 10 10 10]\n",
      " [10 10 10 10]\n",
      " [10 10 10 10]]\n",
      "\n",
      "Zero matrix:\n",
      "[[ 0.  0.  0.  0.]\n",
      " [ 0.  0.  0.  0.]\n",
      " [ 0.  0.  0.  0.]\n",
      " [ 0.  0.  0.  0.]]\n",
      "\n",
      "One matrix:\n",
      "[[ 1.  1.  1.  1.]\n",
      " [ 1.  1.  1.  1.]\n",
      " [ 1.  1.  1.  1.]\n",
      " [ 1.  1.  1.  1.]]           \n",
      "\n",
      "Normal distribution matrix:\n",
      "[[ 0.71059412  0.45923781  1.31372058  0.06984565]\n",
      " [ 1.39448786 -0.17147513  0.29217905  0.57181448]\n",
      " [ 0.58708775  0.42203256 -0.60047865  2.52088666]\n",
      " [-2.21023536  0.57852846 -0.39603317  0.73772901]]\n",
      "\n",
      "Unifrom distribution matrix:\n",
      "[[ 0.67458093  0.2460438   0.25704181  0.52135265]\n",
      " [ 0.95052707  0.39477873  0.17478287  0.63583553]\n",
      " [ 0.38984215  0.13867116  0.64462602  0.19409668]\n",
      " [ 0.02853441  0.72712016  0.05596697  0.04120505]]\n"
     ]
    }
   ],
   "source": [
    "init = tf.global_variables_initializer()\n",
    "\n",
    "with tf.Session() as sess:\n",
    "    \n",
    "    sess.run(init)\n",
    "    \n",
    "    print(\"Filled matrix:\\n{0}\\n\\nZero matrix:\\n{1}\\n\\nOne matrix:\\n{2} \\\n",
    "          \\n\\nNormal distribution matrix:\\n{3}\\n\\nUnifrom distribution matrix:\\n{4}\".format(sess.run(mat), \n",
    "                                                                                            sess.run(zeros),\n",
    "                                                                                            sess.run(ones),\n",
    "                                                                                            sess.run(myrandn),\n",
    "                                                                                           sess.run(myrandu)))"
   ]
  },
  {
   "cell_type": "code",
   "execution_count": null,
   "metadata": {},
   "outputs": [],
   "source": []
  },
  {
   "cell_type": "code",
   "execution_count": null,
   "metadata": {},
   "outputs": [],
   "source": []
  }
 ],
 "metadata": {
  "kernelspec": {
   "display_name": "Python 3",
   "language": "python",
   "name": "python3"
  },
  "language_info": {
   "codemirror_mode": {
    "name": "ipython",
    "version": 3
   },
   "file_extension": ".py",
   "mimetype": "text/x-python",
   "name": "python",
   "nbconvert_exporter": "python",
   "pygments_lexer": "ipython3",
   "version": "3.5.4"
  }
 },
 "nbformat": 4,
 "nbformat_minor": 2
}
